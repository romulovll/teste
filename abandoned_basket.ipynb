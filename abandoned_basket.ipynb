{
  "nbformat": 4,
  "nbformat_minor": 0,
  "metadata": {
    "colab": {
      "name": "abandoned-basket",
      "version": "0.3.2",
      "provenance": [],
      "include_colab_link": true
    },
    "kernelspec": {
      "name": "python2",
      "display_name": "Python 2"
    }
  },
  "cells": [
    {
      "cell_type": "markdown",
      "metadata": {
        "id": "view-in-github",
        "colab_type": "text"
      },
      "source": [
        "<a href=\"https://colab.research.google.com/github/romulovll/teste/blob/master/abandoned_basket.ipynb\" target=\"_parent\"><img src=\"https://colab.research.google.com/assets/colab-badge.svg\" alt=\"Open In Colab\"/></a>"
      ]
    },
    {
      "cell_type": "markdown",
      "metadata": {
        "id": "b3KFMs2Nycwy",
        "colab_type": "text"
      },
      "source": [
        "Pipeline: A Pipeline encapsulates your entire data processing task, from start to finish. This includes reading input data, transforming that data, and writing output data. All Beam driver programs must create a Pipeline. When you create the Pipeline, you must also specify the execution options that tell the Pipeline where and how to run.\n",
        "\n",
        "PCollection: A PCollection represents a distributed data set that your Beam pipeline operates on. The data set can be bounded, meaning it comes from a fixed source like a file, or unbounded, meaning it comes from a continuously updating source via a subscription or other mechanism. Your pipeline typically creates an initial PCollection by reading data from an external data source, but you can also create a PCollection from in-memory data within your driver program. From there, PCollections are the inputs and outputs for each step in your pipeline.\n",
        "\n",
        "PTransform: A PTransform represents a data processing operation, or a step, in your pipeline. Every PTransform takes one or more PCollection objects as input, performs a processing function that you provide on the elements of that PCollection, and produces zero or more output PCollection objects.\n",
        "\n",
        "I/O transforms: Beam comes with a number of “IOs” - library PTransforms that read or write data to various external storage systems.\n",
        "\n",
        "https://beam.apache.org/documentation/programming-guide/"
      ]
    },
    {
      "cell_type": "code",
      "metadata": {
        "id": "MBDOeBPmxdVa",
        "colab_type": "code",
        "colab": {
          "base_uri": "https://localhost:8080/",
          "height": 51
        },
        "outputId": "3c1b0b71-4183-415e-c5f3-2a005b22f15b"
      },
      "source": [
        "# Run and print a shell command.\n",
        "def run(cmd):\n",
        "  print('>> {}'.format(cmd))\n",
        "  !{cmd}\n",
        "  print('')\n",
        "\n",
        "# Install apache-beam.\n",
        "run('pip install --quiet apache-beam')"
      ],
      "execution_count": 4,
      "outputs": [
        {
          "output_type": "stream",
          "text": [
            ">> pip install --quiet apache-beam\n",
            "\n"
          ],
          "name": "stdout"
        }
      ]
    },
    {
      "cell_type": "code",
      "metadata": {
        "id": "pwY3uExrxu4L",
        "colab_type": "code",
        "colab": {
          "base_uri": "https://localhost:8080/",
          "height": 408
        },
        "outputId": "958d303e-246e-4a88-be7c-5d7089c43ea7"
      },
      "source": [
        "import apache_beam as beam\n",
        "import re\n",
        "\n",
        "inputs_pattern = 'data/*'\n",
        "outputs_prefix = 'outputs/part'\n",
        "\n",
        "# Running locally in the DirectRunner.\n",
        "with beam.Pipeline() as pipeline:\n",
        "  (\n",
        "      pipeline\n",
        "      | 'Read lines' >> beam.io.ReadFromText(inputs_pattern)\n",
        "      | 'Find words' >> beam.FlatMap(lambda line: re.findall(r\"[a-zA-Z']+\", line))\n",
        "      | 'Pair words with 1' >> beam.Map(lambda word: (word, 1))\n",
        "      | 'Group and sum' >> beam.CombinePerKey(sum)\n",
        "      | 'Format results' >> beam.Map(lambda word_count: str(word_count))\n",
        "      | 'Write results' >> beam.io.WriteToText(outputs_prefix)\n",
        "  )\n",
        "\n",
        "# Sample the first 20 results, remember there are no ordering guarantees.\n",
        "run('head -n 20 {}-00000-of-*'.format(outputs_prefix))"
      ],
      "execution_count": 6,
      "outputs": [
        {
          "output_type": "stream",
          "text": [
            "WARNING:root:Deleting 1 existing files in target path matching: -*-of-%(num_shards)05d\n"
          ],
          "name": "stderr"
        },
        {
          "output_type": "stream",
          "text": [
            ">> head -n 20 outputs/part-00000-of-*\n",
            "(u'canker', 1)\n",
            "(u'bounty', 2)\n",
            "(u'provision', 3)\n",
            "(u'to', 438)\n",
            "(u'terms', 2)\n",
            "(u'unnecessary', 2)\n",
            "(u'tongue', 5)\n",
            "(u'knives', 1)\n",
            "(u'Commend', 1)\n",
            "(u'Hum', 2)\n",
            "(u'Set', 2)\n",
            "(u'smell', 6)\n",
            "(u'dreadful', 3)\n",
            "(u'frowning', 1)\n",
            "(u'World', 1)\n",
            "(u'tike', 1)\n",
            "(u'yes', 3)\n",
            "(u'oldness', 1)\n",
            "(u'boat', 1)\n",
            "(u\"in's\", 1)\n",
            "\n"
          ],
          "name": "stdout"
        }
      ]
    },
    {
      "cell_type": "code",
      "metadata": {
        "id": "rpJN82WH43Pq",
        "colab_type": "code",
        "colab": {}
      },
      "source": [
        "#Gerar um JSON para cada usuário.\n",
        "#Verificar a diferença entre o tempo de inatividade cada usuário.\n",
        "# Gerar o Arquivo de saída."
      ],
      "execution_count": 0,
      "outputs": []
    },
    {
      "cell_type": "code",
      "metadata": {
        "id": "UkX3xyOgzR0v",
        "colab_type": "code",
        "colab": {}
      },
      "source": [
        "import apache_beam as beam\n",
        "from apache_beam.options.pipeline_options import PipelineOptions\n",
        "\n",
        "p = beam.Pipeline(options=PipelineOptions())\n",
        "lines = p | 'ReadMyFile' >> beam.io.ReadFromText('data/*')"
      ],
      "execution_count": 0,
      "outputs": []
    },
    {
      "cell_type": "code",
      "metadata": {
        "id": "V4lsS1hy1JS6",
        "colab_type": "code",
        "colab": {}
      },
      "source": [
        "class MyOptions(PipelineOptions):\n",
        "\n",
        "  @classmethod\n",
        "  def _add_argparse_args(cls, parser):\n",
        "    parser.add_argument('--input',\n",
        "                        help='Input for the pipeline',\n",
        "                        default='gs://my-bucket/input')\n",
        "    parser.add_argument('--output',\n",
        "                        help='Output for the pipeline',\n",
        "                        default='gs://my-bucket/output')"
      ],
      "execution_count": 0,
      "outputs": []
    },
    {
      "cell_type": "code",
      "metadata": {
        "id": "DbblsUJW7m1B",
        "colab_type": "code",
        "colab": {}
      },
      "source": [
        ""
      ],
      "execution_count": 0,
      "outputs": []
    },
    {
      "cell_type": "code",
      "metadata": {
        "id": "GwKqSLfYoGCu",
        "colab_type": "code",
        "outputId": "1049766f-2e9c-461e-eb8b-e7a975e1c754",
        "colab": {
          "base_uri": "https://localhost:8080/",
          "height": 231
        }
      },
      "source": [
        "import apache_beam as beam\n",
        "from apache_beam.options.pipeline_options import PipelineOptions\n",
        "options = PipelineOptions()\n",
        "p = beam.Pipeline(options=options)\n",
        "\n",
        "\n",
        "options = PipelineOptions()\n",
        "google_cloud_options = options.view_as(GoogleCloudOptions)\n",
        "google_cloud_options.project = 'my-project-id'\n",
        "google_cloud_options.job_name = 'myjob'\n",
        "google_cloud_options.staging_location = 'gs://your-bucket-name-here/staging'\n",
        "google_cloud_options.temp_location = 'gs://your-bucket-name-here/temp'\n",
        "options.view_as(StandardOptions).runner = 'DataflowRunner'"
      ],
      "execution_count": 0,
      "outputs": [
        {
          "output_type": "error",
          "ename": "NameError",
          "evalue": "ignored",
          "traceback": [
            "\u001b[0;31m\u001b[0m",
            "\u001b[0;31mNameError\u001b[0mTraceback (most recent call last)",
            "\u001b[0;32m<ipython-input-7-de32aa7043bd>\u001b[0m in \u001b[0;36m<module>\u001b[0;34m()\u001b[0m\n\u001b[1;32m      1\u001b[0m \u001b[0moptions\u001b[0m \u001b[0;34m=\u001b[0m \u001b[0mPipelineOptions\u001b[0m\u001b[0;34m(\u001b[0m\u001b[0;34m)\u001b[0m\u001b[0;34m\u001b[0m\u001b[0m\n\u001b[0;32m----> 2\u001b[0;31m \u001b[0mgoogle_cloud_options\u001b[0m \u001b[0;34m=\u001b[0m \u001b[0moptions\u001b[0m\u001b[0;34m.\u001b[0m\u001b[0mview_as\u001b[0m\u001b[0;34m(\u001b[0m\u001b[0mGoogleCloudOptions\u001b[0m\u001b[0;34m)\u001b[0m\u001b[0;34m\u001b[0m\u001b[0m\n\u001b[0m\u001b[1;32m      3\u001b[0m \u001b[0mgoogle_cloud_options\u001b[0m\u001b[0;34m.\u001b[0m\u001b[0mproject\u001b[0m \u001b[0;34m=\u001b[0m \u001b[0;34m'my-project-id'\u001b[0m\u001b[0;34m\u001b[0m\u001b[0m\n\u001b[1;32m      4\u001b[0m \u001b[0mgoogle_cloud_options\u001b[0m\u001b[0;34m.\u001b[0m\u001b[0mjob_name\u001b[0m \u001b[0;34m=\u001b[0m \u001b[0;34m'myjob'\u001b[0m\u001b[0;34m\u001b[0m\u001b[0m\n\u001b[1;32m      5\u001b[0m \u001b[0mgoogle_cloud_options\u001b[0m\u001b[0;34m.\u001b[0m\u001b[0mstaging_location\u001b[0m \u001b[0;34m=\u001b[0m \u001b[0;34m'gs://your-bucket-name-here/staging'\u001b[0m\u001b[0;34m\u001b[0m\u001b[0m\n",
            "\u001b[0;31mNameError\u001b[0m: name 'GoogleCloudOptions' is not defined"
          ]
        }
      ]
    },
    {
      "cell_type": "markdown",
      "metadata": {
        "id": "Mq-HtQtHyaJR",
        "colab_type": "text"
      },
      "source": [
        ""
      ]
    },
    {
      "cell_type": "code",
      "metadata": {
        "id": "gojWXeD5oi7m",
        "colab_type": "code",
        "outputId": "72d2071a-751f-4997-8f82-e66b14a59a72",
        "colab": {
          "base_uri": "https://localhost:8080/",
          "height": 34
        }
      },
      "source": [
        "p = beam.Pipeline(options=options)\n"
      ],
      "execution_count": 0,
      "outputs": [
        {
          "output_type": "stream",
          "text": [
            "INFO:root:Missing pipeline option (runner). Executing pipeline using the default runner: DirectRunner.\n"
          ],
          "name": "stderr"
        }
      ]
    },
    {
      "cell_type": "code",
      "metadata": {
        "id": "mYUoklWwV998",
        "colab_type": "code",
        "outputId": "922b36e7-684a-4f71-f2f7-e045bbdc0308",
        "colab": {
          "base_uri": "https://localhost:8080/",
          "height": 34
        }
      },
      "source": [
        "import apache_beam as beam\n",
        "from apache_beam.options.pipeline_options import PipelineOptions\n",
        "\n",
        "p = beam.Pipeline(options=PipelineOptions())\n",
        "\n",
        "\n",
        "\n"
      ],
      "execution_count": 0,
      "outputs": [
        {
          "output_type": "stream",
          "text": [
            "INFO:root:Missing pipeline option (runner). Executing pipeline using the default runner: DirectRunner.\n"
          ],
          "name": "stderr"
        }
      ]
    },
    {
      "cell_type": "code",
      "metadata": {
        "id": "RxDQrYaWlper",
        "colab_type": "code",
        "colab": {}
      },
      "source": [
        "class MyOptions(PipelineOptions):\n",
        "@classmethod\n",
        "  def _add_argparse_args(cls, parser):\n",
        "    parser.add_argument('--input',\n",
        "                        help='Input for the pipeline',\n",
        "                        default='./data/')\n",
        "    parser.add_argument('--output',\n",
        "                        help='Output for the pipeline',\n",
        "                        default='./output/')"
      ],
      "execution_count": 0,
      "outputs": []
    }
  ]
}